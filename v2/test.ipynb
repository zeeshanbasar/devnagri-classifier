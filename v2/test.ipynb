{
 "cells": [
  {
   "cell_type": "code",
   "execution_count": 125,
   "metadata": {},
   "outputs": [
    {
     "name": "stdout",
     "output_type": "stream",
     "text": [
      "1    chhya    [15]\n",
      "2    ba    [11]\n",
      "3    chhya    [15]\n",
      "4    ba    [11]\n",
      "5    bha    [12]\n",
      "6    chhya    [15]\n",
      "7    ba    [11]\n"
     ]
    }
   ],
   "source": [
    "#basic imports\n",
    "import numpy as np\n",
    "import os\n",
    "import cv2\n",
    "import tensorflow as tf\n",
    "\n",
    "CATEGORIES=[\"0\",\"1\",\"2\",\"3\",\"4\",\"5\",\"6\",\"7\",\"8\",\"9\",\n",
    "           \"adna\",\"ba\",\"bha\",\"cha\",\"chha\",\"chhya\",\"da\",\"daa\",\"dha\",\"dhaa\",\"ga\",\n",
    "           \"gha\",\"gya\",\"ha\",\"ja\",\"jha\",\"ka\",\"kha\",\"kna\",\"ksha\",\"la\",\"ma\",\"na\",\n",
    "           \"pa\",\"pha\",\"ra\",\"sa\",\"sh\",\"t\",\"ta\",\"tha\",\"thaa\",\"tra\",\"waw\",\"yaw\",\"yna\"]\n",
    "\n",
    "'''\n",
    "# use if trained on grayscale specified: model-2\n",
    "def prepare(filepath):\n",
    "    img_array=cv2.imread(filepath,cv2.IMREAD_GRAYSCALE)\n",
    "    new_array=cv2.resize(img_array,(32,32))\n",
    "    image=np.array(new_array).reshape((-1, 32, 32, 1))\n",
    "    \n",
    "    return image \n",
    "'''\n",
    "# use if trained on grayscale not specified: model-1\n",
    "def prepare(filepath):\n",
    "    img_array=cv2.imread(filepath)\n",
    "    new_array=cv2.resize(img_array,(32,32))\n",
    "    image=np.array(new_array).reshape((-1, 32, 32, 3))\n",
    "    \n",
    "    return image \n",
    "\n",
    "\n",
    "\n",
    "\n",
    "model=tf.keras.models.load_model('devnagri-script-detection-2.model')\n",
    "\n",
    "'''\n",
    "prediction=[model.predict_classes([prepare('1.jpeg')])]\n",
    "prediction.append(model.predict_classes([prepare('2.jpeg')]))\n",
    "prediction.append(model.predict_classes([prepare('3.jpeg')]))\n",
    "prediction.append(model.predict_classes([prepare('4.jpeg')]))\n",
    "prediction.append(model.predict_classes([prepare('5.jpeg')]))\n",
    "prediction.append(model.predict_classes([prepare('6.jpeg')]))\n",
    "prediction.append(model.predict_classes([prepare('7.jpeg')]))\n",
    "\n",
    "\n",
    "\n",
    "for l in range(len(prediction)):\n",
    "    print((l+1),\"  \",CATEGORIES[int(prediction[l])], \"  \", prediction[l])\n",
    "    \n",
    "'''"
   ]
  },
  {
   "cell_type": "code",
   "execution_count": 192,
   "metadata": {},
   "outputs": [],
   "source": [
    "#preprocession to introduce abnormalities in the training data\n",
    "#\n",
    "\n",
    "from keras.preprocessing.image import img_to_array, load_img\n",
    "from keras.preprocessing.image import ImageDataGenerator\n",
    "from keras.applications.inception_v3 import preprocess_input\n",
    "import numpy as np\n",
    "import cv2\n",
    "import matplotlib.pyplot as plt\n",
    "import random\n",
    "import math\n",
    "\n",
    "#filepath='C:/IDK/ML/Devnagri/v2/DevanagariHandwrittenCharacterDataset/Test/character_10_yna/13801.png'\n",
    "filepath='C:/IDK/ML/Devnagri/v2/2.jpeg'\n"
   ]
  },
  {
   "cell_type": "code",
   "execution_count": 232,
   "metadata": {},
   "outputs": [
    {
     "data": {
      "image/png": "[encoded data removed]",
      "text/plain": [
       "<Figure size 432x288 with 1 Axes>"
      ]
     },
     "metadata": {
      "needs_background": "light"
     },
     "output_type": "display_data"
    },
    {
     "name": "stderr",
     "output_type": "stream",
     "text": [
      "Clipping input data to the valid range for imshow with RGB data ([0..1] for floats or [0..255] for integers).\n"
     ]
    },
    {
     "data": {
      "image/png": "[encoded data removed]",
      "text/plain": [
       "<Figure size 432x288 with 1 Axes>"
      ]
     },
     "metadata": {
      "needs_background": "light"
     },
     "output_type": "display_data"
    },
    {
     "data": {
      "text/plain": [
       "'\\nimage = load_img(image_path, target_size=(299, 299))\\nimage = img_to_array(image)\\nimage = np.expand_dims(image, axis=0) # 1 x input_shape\\nimage = preprocess_input(image)\\n\\ntrain_datagen.fit(image)\\nimage = train_datagen.random_transform(image)\\n'"
      ]
     },
     "execution_count": 232,
     "metadata": {},
     "output_type": "execute_result"
    }
   ],
   "source": [
    "#data augmentation\n",
    "\n",
    "random.seed(1)\n",
    "train_datagen = ImageDataGenerator(\n",
    "    rotation_range=random.random()*180,\n",
    "    width_shift_range=[-5*random.random(),10*random.random()],\n",
    "    height_shift_range=[-10*random.random(),5*random.random()],\n",
    "    #brightness_range=[random.random(),random.random()*2],\n",
    "    shear_range=10*random.random(),\n",
    "    #zoom_range=random.random()*10,\n",
    "    horizontal_flip=True,\n",
    "    vertical_flip=True,\n",
    "    channel_shift_range=random.random())\n",
    "    #fill_mode='nearest')\n",
    "\n",
    "\n",
    "img_array=cv2.imread(filepath)\n",
    "new_array=cv2.resize(img_array,(32,32))\n",
    "plt.imshow(new_array)\n",
    "plt.show()\n",
    "image = img_to_array(new_array)\n",
    "image = preprocess_input(image)\n",
    "image = train_datagen.random_transform(image)\n",
    "plt.imshow(image)\n",
    "plt.show()\n",
    "image=np.array(new_array).reshape((-1, 32, 32, 3))\n",
    "np.shape(np.array(image))\n",
    "\n",
    "\n",
    "\n",
    "# train_datagen.fit(image)\n",
    "\n",
    "'''\n",
    "image = load_img(image_path, target_size=(299, 299))\n",
    "image = img_to_array(image)\n",
    "image = np.expand_dims(image, axis=0) # 1 x input_shape\n",
    "image = preprocess_input(image)\n",
    "\n",
    "train_datagen.fit(image)\n",
    "image = train_datagen.random_transform(image)\n",
    "'''"
   ]
  },
  {
   "cell_type": "code",
   "execution_count": 239,
   "metadata": {},
   "outputs": [
    {
     "name": "stdout",
     "output_type": "stream",
     "text": [
      "[[[[ 64 170 153]\n",
      "   [ 67 171 154]\n",
      "   [ 65 167 150]\n",
      "   ...\n",
      "   [ 72 171 153]\n",
      "   [ 73 172 154]\n",
      "   [ 72 170 154]]\n",
      "\n",
      "  [[ 66 167 150]\n",
      "   [ 67 169 152]\n",
      "   [ 67 169 152]\n",
      "   ...\n",
      "   [ 72 171 153]\n",
      "   [ 73 169 152]\n",
      "   [ 72 170 154]]\n",
      "\n",
      "  [[ 71 169 153]\n",
      "   [ 69 168 152]\n",
      "   [ 67 169 152]\n",
      "   ...\n",
      "   [ 72 171 153]\n",
      "   [ 73 169 152]\n",
      "   [ 72 170 154]]\n",
      "\n",
      "  ...\n",
      "\n",
      "  [[ 69 167 151]\n",
      "   [ 71 169 153]\n",
      "   [ 68 167 151]\n",
      "   ...\n",
      "   [ 70 170 152]\n",
      "   [ 71 171 153]\n",
      "   [ 72 171 153]]\n",
      "\n",
      "  [[ 71 169 153]\n",
      "   [ 70 168 152]\n",
      "   [ 69 168 152]\n",
      "   ...\n",
      "   [ 72 168 151]\n",
      "   [ 74 170 153]\n",
      "   [ 72 170 152]]\n",
      "\n",
      "  [[ 68 166 150]\n",
      "   [ 70 168 152]\n",
      "   [ 71 169 153]\n",
      "   ...\n",
      "   [ 75 169 152]\n",
      "   [ 75 169 152]\n",
      "   [ 78 171 153]]]]\n"
     ]
    }
   ],
   "source": [
    "print(image)"
   ]
  },
  {
   "cell_type": "code",
   "execution_count": 233,
   "metadata": {},
   "outputs": [],
   "source": [
    "model=tf.keras.models.load_model('devnagri-script-detection-1.model')\n",
    "prediction=[model.predict_classes([image])]"
   ]
  },
  {
   "cell_type": "code",
   "execution_count": 234,
   "metadata": {},
   "outputs": [
    {
     "name": "stdout",
     "output_type": "stream",
     "text": [
      "[array([27], dtype=int64)]\n"
     ]
    }
   ],
   "source": [
    "print(prediction)"
   ]
  },
  {
   "cell_type": "code",
   "execution_count": 235,
   "metadata": {},
   "outputs": [],
   "source": [
    "# load the directory where image(or dataset) folders are\n",
    "DATADIR='C:\\IDK\\ML\\Devnagri\\DevanagariHandwrittenCharacterDataset\\Train'\n",
    "CATEGORIES=[\"0\",\"1\",\"2\",\"3\",\"4\",\"5\",\"6\",\"7\",\"8\",\"9\",\n",
    "           \"adna\",\"ba\",\"bha\",\"cha\",\"chha\",\"chhya\",\"da\",\"daa\",\"dha\",\"dhaa\",\"ga\",\n",
    "           \"gha\",\"gya\",\"ha\",\"ja\",\"jha\",\"ka\",\"kha\",\"kna\",\"ksha\",\"la\",\"ma\",\"na\",\n",
    "           \"pa\",\"pha\",\"ra\",\"sa\",\"sh\",\"t\",\"ta\",\"tha\",\"thaa\",\"tra\",\"waw\",\"yaw\",\"yna\"]"
   ]
  },
  {
   "cell_type": "code",
   "execution_count": 353,
   "metadata": {},
   "outputs": [],
   "source": [
    "# creating the training data from the images dataset\n",
    "\n",
    "random.seed(1)\n",
    "train_datagen = ImageDataGenerator(\n",
    "    rotation_range=random.random()*180,\n",
    "    width_shift_range=[-5*random.random(),10*random.random()],\n",
    "    height_shift_range=[-10*random.random(),5*random.random()],\n",
    "    #brightness_range=[random.random(),random.random()*2],\n",
    "    shear_range=10*random.random(),\n",
    "    #zoom_range=random.random()*10,\n",
    "    horizontal_flip=True,\n",
    "    vertical_flip=True,\n",
    "    channel_shift_range=random.random())\n",
    "\n",
    "\n",
    "training_data=[]\n",
    "def create_training_data():\n",
    "    for category in CATEGORIES:\n",
    "        path=os.path.join(DATADIR,category)\n",
    "        class_num=CATEGORIES.index(category)\n",
    "        for img in os.listdir(path):            \n",
    "            img_array=cv2.imread(os.path.join(path,img))\n",
    "            new_array=cv2.resize(img_array,(32,32))\n",
    "            image = img_to_array(new_array)\n",
    "            image = preprocess_input(image)\n",
    "            image = train_datagen.random_transform(image)\n",
    "            image=np.array(image).reshape((-1,32, 32, 3))            \n",
    "            training_data.append([image,class_num])\n",
    "create_training_data()\n",
    "\n",
    "\n",
    "random.shuffle(training_data)\n",
    "\n",
    "\n"
   ]
  },
  {
   "cell_type": "code",
   "execution_count": 357,
   "metadata": {},
   "outputs": [
    {
     "data": {
      "text/plain": [
       "(2,)"
      ]
     },
     "execution_count": 357,
     "metadata": {},
     "output_type": "execute_result"
    }
   ],
   "source": [
    "np.shape(training_data[1])"
   ]
  },
  {
   "cell_type": "code",
   "execution_count": 359,
   "metadata": {},
   "outputs": [],
   "source": [
    "X=[]\n",
    "y=[]\n",
    "\n",
    "for features, labels in training_data:\n",
    "    X.append(features)\n",
    "    y.append(labels)\n",
    "\n"
   ]
  },
  {
   "cell_type": "code",
   "execution_count": 360,
   "metadata": {},
   "outputs": [
    {
     "name": "stdout",
     "output_type": "stream",
     "text": [
      "(78200, 1, 32, 32, 3)\n",
      "(78200,)\n"
     ]
    }
   ],
   "source": [
    "print(np.shape(X))\n",
    "print(np.shape(y))"
   ]
  },
  {
   "cell_type": "code",
   "execution_count": 349,
   "metadata": {},
   "outputs": [],
   "source": [
    "X=np.array(X) # .reshape(-1,32,32,1)\n",
    "X=X.reshape(-1,32,32,3)\n",
    "y=np.array(y)\n",
    "#y=tf.keras.utils.to_categorical(y, num_classes=46, dtype='float32')"
   ]
  },
  {
   "cell_type": "code",
   "execution_count": 351,
   "metadata": {},
   "outputs": [
    {
     "data": {
      "text/plain": [
       "(78200, 32, 32, 3)"
      ]
     },
     "execution_count": 351,
     "metadata": {},
     "output_type": "execute_result"
    }
   ],
   "source": [
    "np.shape(X)"
   ]
  },
  {
   "cell_type": "code",
   "execution_count": 361,
   "metadata": {},
   "outputs": [
    {
     "name": "stdout",
     "output_type": "stream",
     "text": [
      "[array([0], dtype=int64)]\n"
     ]
    }
   ],
   "source": [
    "model=tf.keras.models.load_model('devnagri-script-detection-1.model')\n",
    "prediction=[model.predict_classes([X[9826]])]\n",
    "print(prediction)"
   ]
  },
  {
   "cell_type": "code",
   "execution_count": 362,
   "metadata": {},
   "outputs": [
    {
     "data": {
      "text/plain": [
       "16"
      ]
     },
     "execution_count": 362,
     "metadata": {},
     "output_type": "execute_result"
    }
   ],
   "source": [
    "y[9826]"
   ]
  },
  {
   "cell_type": "code",
   "execution_count": 255,
   "metadata": {},
   "outputs": [
    {
     "data": {
      "text/plain": [
       "array([[[[-0.4550333 , -0.4550333 , -0.4550333 ],\n",
       "         [-0.4550333 , -0.4550333 , -0.4550333 ],\n",
       "         [-0.4550333 , -0.4550333 , -0.4550333 ],\n",
       "         ...,\n",
       "         [-0.4550333 , -0.4550333 , -0.4550333 ],\n",
       "         [-0.4550333 , -0.4550333 , -0.4550333 ],\n",
       "         [-0.4550333 , -0.4550333 , -0.4550333 ]],\n",
       "\n",
       "        [[-0.4550333 , -0.4550333 , -0.4550333 ],\n",
       "         [-0.4550333 , -0.4550333 , -0.4550333 ],\n",
       "         [-0.4550333 , -0.4550333 , -0.4550333 ],\n",
       "         ...,\n",
       "         [-0.4550333 , -0.4550333 , -0.4550333 ],\n",
       "         [-0.4550333 , -0.4550333 , -0.4550333 ],\n",
       "         [-0.4550333 , -0.4550333 , -0.4550333 ]],\n",
       "\n",
       "        [[-0.4550333 , -0.4550333 , -0.4550333 ],\n",
       "         [-0.4550333 , -0.4550333 , -0.4550333 ],\n",
       "         [-0.4550333 , -0.4550333 , -0.4550333 ],\n",
       "         ...,\n",
       "         [-0.4550333 , -0.4550333 , -0.4550333 ],\n",
       "         [-0.4550333 , -0.4550333 , -0.4550333 ],\n",
       "         [-0.4550333 , -0.4550333 , -0.4550333 ]],\n",
       "\n",
       "        ...,\n",
       "\n",
       "        [[-0.4550333 , -0.4550333 , -0.4550333 ],\n",
       "         [-0.4550333 , -0.4550333 , -0.4550333 ],\n",
       "         [-0.45015478, -0.45015478, -0.45015478],\n",
       "         ...,\n",
       "         [-0.4550333 , -0.4550333 , -0.4550333 ],\n",
       "         [-0.4550333 , -0.4550333 , -0.4550333 ],\n",
       "         [-0.4550333 , -0.4550333 , -0.4550333 ]],\n",
       "\n",
       "        [[-0.4550333 , -0.4550333 , -0.4550333 ],\n",
       "         [-0.4550333 , -0.4550333 , -0.4550333 ],\n",
       "         [-0.4550333 , -0.4550333 , -0.4550333 ],\n",
       "         ...,\n",
       "         [-0.4550333 , -0.4550333 , -0.4550333 ],\n",
       "         [-0.4550333 , -0.4550333 , -0.4550333 ],\n",
       "         [-0.4550333 , -0.4550333 , -0.4550333 ]],\n",
       "\n",
       "        [[-0.4550333 , -0.4550333 , -0.4550333 ],\n",
       "         [-0.4550333 , -0.4550333 , -0.4550333 ],\n",
       "         [-0.4550333 , -0.4550333 , -0.4550333 ],\n",
       "         ...,\n",
       "         [-0.4550333 , -0.4550333 , -0.4550333 ],\n",
       "         [-0.4550333 , -0.4550333 , -0.4550333 ],\n",
       "         [-0.4550333 , -0.4550333 , -0.4550333 ]]]], dtype=float32)"
      ]
     },
     "execution_count": 255,
     "metadata": {},
     "output_type": "execute_result"
    }
   ],
   "source": [
    "X[1]"
   ]
  },
  {
   "cell_type": "code",
   "execution_count": 221,
   "metadata": {},
   "outputs": [
    {
     "name": "stderr",
     "output_type": "stream",
     "text": [
      "Clipping input data to the valid range for imshow with RGB data ([0..1] for floats or [0..255] for integers).\n"
     ]
    },
    {
     "data": {
      "image/png": "[encoded data removed]",
      "text/plain": [
       "<Figure size 432x288 with 1 Axes>"
      ]
     },
     "metadata": {
      "needs_background": "light"
     },
     "output_type": "display_data"
    },
    {
     "name": "stderr",
     "output_type": "stream",
     "text": [
      "Clipping input data to the valid range for imshow with RGB data ([0..1] for floats or [0..255] for integers).\n"
     ]
    },
    {
     "name": "stdout",
     "output_type": "stream",
     "text": [
      "[[[[-0.9178003 -0.9178003 -0.9178003]\n",
      "   [-0.9178003 -0.9178003 -0.9178003]\n",
      "   [-0.9178003 -0.9178003 -0.9178003]\n",
      "   ...\n",
      "   [-0.9178003 -0.9178003 -0.9178003]\n",
      "   [-0.9178003 -0.9178003 -0.9178003]\n",
      "   [-0.9178003 -0.9178003 -0.9178003]]\n",
      "\n",
      "  [[-0.9178003 -0.9178003 -0.9178003]\n",
      "   [-0.9178003 -0.9178003 -0.9178003]\n",
      "   [-0.9178003 -0.9178003 -0.9178003]\n",
      "   ...\n",
      "   [-0.9178003 -0.9178003 -0.9178003]\n",
      "   [-0.9178003 -0.9178003 -0.9178003]\n",
      "   [-0.9178003 -0.9178003 -0.9178003]]\n",
      "\n",
      "  [[-0.9178003 -0.9178003 -0.9178003]\n",
      "   [-0.9178003 -0.9178003 -0.9178003]\n",
      "   [-0.9178003 -0.9178003 -0.9178003]\n",
      "   ...\n",
      "   [-0.9178003 -0.9178003 -0.9178003]\n",
      "   [-0.9178003 -0.9178003 -0.9178003]\n",
      "   [-0.9178003 -0.9178003 -0.9178003]]\n",
      "\n",
      "  ...\n",
      "\n",
      "  [[-0.9178003 -0.9178003 -0.9178003]\n",
      "   [-0.9178003 -0.9178003 -0.9178003]\n",
      "   [-0.9178003 -0.9178003 -0.9178003]\n",
      "   ...\n",
      "   [-0.9178003 -0.9178003 -0.9178003]\n",
      "   [-0.9178003 -0.9178003 -0.9178003]\n",
      "   [-0.9178003 -0.9178003 -0.9178003]]\n",
      "\n",
      "  [[-0.9178003 -0.9178003 -0.9178003]\n",
      "   [-0.9178003 -0.9178003 -0.9178003]\n",
      "   [-0.9178003 -0.9178003 -0.9178003]\n",
      "   ...\n",
      "   [-0.9178003 -0.9178003 -0.9178003]\n",
      "   [-0.9178003 -0.9178003 -0.9178003]\n",
      "   [-0.9178003 -0.9178003 -0.9178003]]\n",
      "\n",
      "  [[-0.9178003 -0.9178003 -0.9178003]\n",
      "   [-0.9178003 -0.9178003 -0.9178003]\n",
      "   [-0.9178003 -0.9178003 -0.9178003]\n",
      "   ...\n",
      "   [-0.9178003 -0.9178003 -0.9178003]\n",
      "   [-0.9178003 -0.9178003 -0.9178003]\n",
      "   [-0.9178003 -0.9178003 -0.9178003]]]]\n"
     ]
    },
    {
     "data": {
      "image/png": "[encoded data removed]",
      "text/plain": [
       "<Figure size 432x288 with 1 Axes>"
      ]
     },
     "metadata": {
      "needs_background": "light"
     },
     "output_type": "display_data"
    },
    {
     "name": "stdout",
     "output_type": "stream",
     "text": [
      "[[[[-0.6278007  -0.6278007  -0.6278007 ]\n",
      "   [-0.6278007  -0.6278007  -0.6278007 ]\n",
      "   [-0.6278007  -0.6278007  -0.6278007 ]\n",
      "   ...\n",
      "   [-0.6278007  -0.6278007  -0.6278007 ]\n",
      "   [-0.6278007  -0.6278007  -0.6278007 ]\n",
      "   [-0.6278007  -0.6278007  -0.6278007 ]]\n",
      "\n",
      "  [[-0.6278007  -0.6278007  -0.6278007 ]\n",
      "   [-0.6278007  -0.6278007  -0.6278007 ]\n",
      "   [-0.6278007  -0.6278007  -0.6278007 ]\n",
      "   ...\n",
      "   [-0.6278007  -0.6278007  -0.6278007 ]\n",
      "   [-0.6278007  -0.6278007  -0.6278007 ]\n",
      "   [-0.6278007  -0.6278007  -0.6278007 ]]\n",
      "\n",
      "  [[-0.6278007  -0.6278007  -0.6278007 ]\n",
      "   [-0.6278007  -0.6278007  -0.6278007 ]\n",
      "   [-0.6278007  -0.6278007  -0.6278007 ]\n",
      "   ...\n",
      "   [-0.6278007  -0.6278007  -0.6278007 ]\n",
      "   [-0.6278007  -0.6278007  -0.6278007 ]\n",
      "   [-0.6278007  -0.6278007  -0.6278007 ]]\n",
      "\n",
      "  ...\n",
      "\n",
      "  [[-0.6278007  -0.6278007  -0.6278007 ]\n",
      "   [-0.56682837 -0.56682837 -0.56682837]\n",
      "   [ 0.6612935   0.6612935   0.6612935 ]\n",
      "   ...\n",
      "   [-0.6278007  -0.6278007  -0.6278007 ]\n",
      "   [-0.6278007  -0.6278007  -0.6278007 ]\n",
      "   [-0.6278007  -0.6278007  -0.6278007 ]]\n",
      "\n",
      "  [[-0.6278007  -0.6278007  -0.6278007 ]\n",
      "   [-0.6246441  -0.6246441  -0.6246441 ]\n",
      "   [ 0.00555977  0.00555977  0.00555977]\n",
      "   ...\n",
      "   [-0.6278007  -0.6278007  -0.6278007 ]\n",
      "   [-0.6278007  -0.6278007  -0.6278007 ]\n",
      "   [-0.6278007  -0.6278007  -0.6278007 ]]\n",
      "\n",
      "  [[-0.6278007  -0.6278007  -0.6278007 ]\n",
      "   [-0.6278007  -0.6278007  -0.6278007 ]\n",
      "   [-0.5060046  -0.5060046  -0.5060046 ]\n",
      "   ...\n",
      "   [-0.6278007  -0.6278007  -0.6278007 ]\n",
      "   [-0.6278007  -0.6278007  -0.6278007 ]\n",
      "   [-0.6278007  -0.6278007  -0.6278007 ]]]]\n"
     ]
    },
    {
     "name": "stderr",
     "output_type": "stream",
     "text": [
      "Clipping input data to the valid range for imshow with RGB data ([0..1] for floats or [0..255] for integers).\n"
     ]
    },
    {
     "data": {
      "image/png": "[encoded data removed]",
      "text/plain": [
       "<Figure size 432x288 with 1 Axes>"
      ]
     },
     "metadata": {
      "needs_background": "light"
     },
     "output_type": "display_data"
    },
    {
     "name": "stdout",
     "output_type": "stream",
     "text": [
      "[[[[-1.         -1.         -1.        ]\n",
      "   [-1.         -1.         -1.        ]\n",
      "   [-1.         -1.         -1.        ]\n",
      "   ...\n",
      "   [-1.         -1.         -1.        ]\n",
      "   [-1.         -1.         -1.        ]\n",
      "   [-1.         -1.         -1.        ]]\n",
      "\n",
      "  [[-1.         -1.         -1.        ]\n",
      "   [-1.         -1.         -1.        ]\n",
      "   [-1.         -1.         -1.        ]\n",
      "   ...\n",
      "   [-1.         -1.         -1.        ]\n",
      "   [-1.         -1.         -1.        ]\n",
      "   [-1.         -1.         -1.        ]]\n",
      "\n",
      "  [[-1.         -1.         -1.        ]\n",
      "   [-1.         -1.         -1.        ]\n",
      "   [-1.         -1.         -1.        ]\n",
      "   ...\n",
      "   [-1.         -1.         -1.        ]\n",
      "   [-1.         -1.         -1.        ]\n",
      "   [-1.         -1.         -1.        ]]\n",
      "\n",
      "  ...\n",
      "\n",
      "  [[-1.         -1.         -1.        ]\n",
      "   [-1.         -1.         -1.        ]\n",
      "   [-1.         -1.         -1.        ]\n",
      "   ...\n",
      "   [-0.6852283  -0.6852283  -0.6852283 ]\n",
      "   [-0.43116325 -0.43116325 -0.43116325]\n",
      "   [-0.10353868 -0.10353868 -0.10353868]]\n",
      "\n",
      "  [[-1.         -1.         -1.        ]\n",
      "   [-1.         -1.         -1.        ]\n",
      "   [-1.         -1.         -1.        ]\n",
      "   ...\n",
      "   [-1.         -1.         -1.        ]\n",
      "   [-1.         -1.         -1.        ]\n",
      "   [-1.         -1.         -1.        ]]\n",
      "\n",
      "  [[-1.         -1.         -1.        ]\n",
      "   [-1.         -1.         -1.        ]\n",
      "   [-1.         -1.         -1.        ]\n",
      "   ...\n",
      "   [-1.         -1.         -1.        ]\n",
      "   [-1.         -1.         -1.        ]\n",
      "   [-1.         -1.         -1.        ]]]]\n"
     ]
    },
    {
     "name": "stderr",
     "output_type": "stream",
     "text": [
      "Clipping input data to the valid range for imshow with RGB data ([0..1] for floats or [0..255] for integers).\n"
     ]
    },
    {
     "data": {
      "image/png": "[encoded data removed]",
      "text/plain": [
       "<Figure size 432x288 with 1 Axes>"
      ]
     },
     "metadata": {
      "needs_background": "light"
     },
     "output_type": "display_data"
    },
    {
     "name": "stdout",
     "output_type": "stream",
     "text": [
      "[[[[-0.38111168 -0.38111168 -0.38111168]\n",
      "   [-0.38111168 -0.38111168 -0.38111168]\n",
      "   [-0.38111168 -0.38111168 -0.38111168]\n",
      "   ...\n",
      "   [-0.38111168 -0.38111168 -0.38111168]\n",
      "   [-0.38111168 -0.38111168 -0.38111168]\n",
      "   [-0.38111168 -0.38111168 -0.38111168]]\n",
      "\n",
      "  [[-0.38111168 -0.38111168 -0.38111168]\n",
      "   [-0.38111168 -0.38111168 -0.38111168]\n",
      "   [-0.38111168 -0.38111168 -0.38111168]\n",
      "   ...\n",
      "   [-0.38111168 -0.38111168 -0.38111168]\n",
      "   [-0.38111168 -0.38111168 -0.38111168]\n",
      "   [-0.38111168 -0.38111168 -0.38111168]]\n",
      "\n",
      "  [[-0.38111168 -0.38111168 -0.38111168]\n",
      "   [-0.38111168 -0.38111168 -0.38111168]\n",
      "   [-0.38111168 -0.38111168 -0.38111168]\n",
      "   ...\n",
      "   [-0.38111168 -0.38111168 -0.38111168]\n",
      "   [-0.38111168 -0.38111168 -0.38111168]\n",
      "   [-0.38111168 -0.38111168 -0.38111168]]\n",
      "\n",
      "  ...\n",
      "\n",
      "  [[ 1.          1.          1.        ]\n",
      "   [ 1.          1.          1.        ]\n",
      "   [ 1.          1.          1.        ]\n",
      "   ...\n",
      "   [-0.38111168 -0.38111168 -0.38111168]\n",
      "   [-0.38111168 -0.38111168 -0.38111168]\n",
      "   [-0.38111168 -0.38111168 -0.38111168]]\n",
      "\n",
      "  [[ 1.          1.          1.        ]\n",
      "   [ 1.          1.          1.        ]\n",
      "   [ 1.          1.          1.        ]\n",
      "   ...\n",
      "   [-0.38111168 -0.38111168 -0.38111168]\n",
      "   [-0.38111168 -0.38111168 -0.38111168]\n",
      "   [-0.38111168 -0.38111168 -0.38111168]]\n",
      "\n",
      "  [[ 0.8528499   0.8528499   0.8528499 ]\n",
      "   [ 0.8120804   0.8120804   0.8120804 ]\n",
      "   [ 0.758911    0.758911    0.758911  ]\n",
      "   ...\n",
      "   [-0.38111168 -0.38111168 -0.38111168]\n",
      "   [-0.38111168 -0.38111168 -0.38111168]\n",
      "   [-0.38111168 -0.38111168 -0.38111168]]]]"
     ]
    },
    {
     "name": "stderr",
     "output_type": "stream",
     "text": [
      "Clipping input data to the valid range for imshow with RGB data ([0..1] for floats or [0..255] for integers).\n"
     ]
    },
    {
     "name": "stdout",
     "output_type": "stream",
     "text": [
      "\n"
     ]
    },
    {
     "data": {
      "image/png": "[encoded data removed]",
      "text/plain": [
       "<Figure size 432x288 with 1 Axes>"
      ]
     },
     "metadata": {
      "needs_background": "light"
     },
     "output_type": "display_data"
    },
    {
     "name": "stdout",
     "output_type": "stream",
     "text": [
      "[[[[-1.         -1.         -1.        ]\n",
      "   [-1.         -1.         -1.        ]\n",
      "   [-1.         -1.         -1.        ]\n",
      "   ...\n",
      "   [-1.         -1.         -1.        ]\n",
      "   [-1.         -1.         -1.        ]\n",
      "   [-1.         -1.         -1.        ]]\n",
      "\n",
      "  [[-1.         -1.         -1.        ]\n",
      "   [-1.         -1.         -1.        ]\n",
      "   [-1.         -1.         -1.        ]\n",
      "   ...\n",
      "   [-1.         -1.         -1.        ]\n",
      "   [-1.         -1.         -1.        ]\n",
      "   [-1.         -1.         -1.        ]]\n",
      "\n",
      "  [[-1.         -1.         -1.        ]\n",
      "   [-1.         -1.         -1.        ]\n",
      "   [-1.         -1.         -1.        ]\n",
      "   ...\n",
      "   [-1.         -1.         -1.        ]\n",
      "   [-1.         -1.         -1.        ]\n",
      "   [-1.         -1.         -1.        ]]\n",
      "\n",
      "  ...\n",
      "\n",
      "  [[-1.         -1.         -1.        ]\n",
      "   [-1.         -1.         -1.        ]\n",
      "   [-1.         -1.         -1.        ]\n",
      "   ...\n",
      "   [-1.         -1.         -1.        ]\n",
      "   [-1.         -1.         -1.        ]\n",
      "   [-1.         -1.         -1.        ]]\n",
      "\n",
      "  [[-1.         -1.         -1.        ]\n",
      "   [-1.         -1.         -1.        ]\n",
      "   [-1.         -1.         -1.        ]\n",
      "   ...\n",
      "   [-1.         -1.         -1.        ]\n",
      "   [-1.         -1.         -1.        ]\n",
      "   [-1.         -1.         -1.        ]]\n",
      "\n",
      "  [[-1.         -1.         -1.        ]\n",
      "   [-1.         -1.         -1.        ]\n",
      "   [-0.96328926 -0.96328926 -0.96328926]\n",
      "   ...\n",
      "   [-1.         -1.         -1.        ]\n",
      "   [-1.         -1.         -1.        ]\n",
      "   [-1.         -1.         -1.        ]]]]\n"
     ]
    },
    {
     "name": "stderr",
     "output_type": "stream",
     "text": [
      "Clipping input data to the valid range for imshow with RGB data ([0..1] for floats or [0..255] for integers).\n"
     ]
    },
    {
     "data": {
      "image/png": "[encoded data removed]",
      "text/plain": [
       "<Figure size 432x288 with 1 Axes>"
      ]
     },
     "metadata": {
      "needs_background": "light"
     },
     "output_type": "display_data"
    },
    {
     "name": "stderr",
     "output_type": "stream",
     "text": [
      "Clipping input data to the valid range for imshow with RGB data ([0..1] for floats or [0..255] for integers).\n"
     ]
    },
    {
     "name": "stdout",
     "output_type": "stream",
     "text": [
      "[[[[-1. -1. -1.]\n",
      "   [-1. -1. -1.]\n",
      "   [-1. -1. -1.]\n",
      "   ...\n",
      "   [-1. -1. -1.]\n",
      "   [-1. -1. -1.]\n",
      "   [-1. -1. -1.]]\n",
      "\n",
      "  [[-1. -1. -1.]\n",
      "   [-1. -1. -1.]\n",
      "   [-1. -1. -1.]\n",
      "   ...\n",
      "   [-1. -1. -1.]\n",
      "   [-1. -1. -1.]\n",
      "   [-1. -1. -1.]]\n",
      "\n",
      "  [[-1. -1. -1.]\n",
      "   [-1. -1. -1.]\n",
      "   [-1. -1. -1.]\n",
      "   ...\n",
      "   [-1. -1. -1.]\n",
      "   [-1. -1. -1.]\n",
      "   [-1. -1. -1.]]\n",
      "\n",
      "  ...\n",
      "\n",
      "  [[-1. -1. -1.]\n",
      "   [-1. -1. -1.]\n",
      "   [-1. -1. -1.]\n",
      "   ...\n",
      "   [-1. -1. -1.]\n",
      "   [-1. -1. -1.]\n",
      "   [-1. -1. -1.]]\n",
      "\n",
      "  [[-1. -1. -1.]\n",
      "   [-1. -1. -1.]\n",
      "   [-1. -1. -1.]\n",
      "   ...\n",
      "   [-1. -1. -1.]\n",
      "   [-1. -1. -1.]\n",
      "   [-1. -1. -1.]]\n",
      "\n",
      "  [[-1. -1. -1.]\n",
      "   [-1. -1. -1.]\n",
      "   [-1. -1. -1.]\n",
      "   ...\n",
      "   [-1. -1. -1.]\n",
      "   [-1. -1. -1.]\n",
      "   [-1. -1. -1.]]]]\n"
     ]
    },
    {
     "data": {
      "image/png": "[encoded data removed]",
      "text/plain": [
       "<Figure size 432x288 with 1 Axes>"
      ]
     },
     "metadata": {
      "needs_background": "light"
     },
     "output_type": "display_data"
    },
    {
     "name": "stderr",
     "output_type": "stream",
     "text": [
      "Clipping input data to the valid range for imshow with RGB data ([0..1] for floats or [0..255] for integers).\n"
     ]
    },
    {
     "name": "stdout",
     "output_type": "stream",
     "text": [
      "[[[[-1.        -1.        -1.       ]\n",
      "   [-1.        -1.        -1.       ]\n",
      "   [-1.        -1.        -1.       ]\n",
      "   ...\n",
      "   [-1.        -1.        -1.       ]\n",
      "   [-1.        -1.        -1.       ]\n",
      "   [-1.        -1.        -1.       ]]\n",
      "\n",
      "  [[-1.        -1.        -1.       ]\n",
      "   [-1.        -1.        -1.       ]\n",
      "   [-1.        -1.        -1.       ]\n",
      "   ...\n",
      "   [-1.        -1.        -1.       ]\n",
      "   [-1.        -1.        -1.       ]\n",
      "   [-1.        -1.        -1.       ]]\n",
      "\n",
      "  [[-1.        -1.        -1.       ]\n",
      "   [-0.9795817 -0.9795817 -0.9795817]\n",
      "   [-0.2912141 -0.2912141 -0.2912141]\n",
      "   ...\n",
      "   [-1.        -1.        -1.       ]\n",
      "   [-1.        -1.        -1.       ]\n",
      "   [-1.        -1.        -1.       ]]\n",
      "\n",
      "  ...\n",
      "\n",
      "  [[-1.        -1.        -1.       ]\n",
      "   [-1.        -1.        -1.       ]\n",
      "   [-1.        -1.        -1.       ]\n",
      "   ...\n",
      "   [-1.        -1.        -1.       ]\n",
      "   [-1.        -1.        -1.       ]\n",
      "   [-1.        -1.        -1.       ]]\n",
      "\n",
      "  [[-1.        -1.        -1.       ]\n",
      "   [-1.        -1.        -1.       ]\n",
      "   [-1.        -1.        -1.       ]\n",
      "   ...\n",
      "   [-1.        -1.        -1.       ]\n",
      "   [-1.        -1.        -1.       ]\n",
      "   [-1.        -1.        -1.       ]]\n",
      "\n",
      "  [[-1.        -1.        -1.       ]\n",
      "   [-1.        -1.        -1.       ]\n",
      "   [-1.        -1.        -1.       ]\n",
      "   ...\n",
      "   [-1.        -1.        -1.       ]\n",
      "   [-1.        -1.        -1.       ]\n",
      "   [-1.        -1.        -1.       ]]]]\n"
     ]
    },
    {
     "data": {
      "image/png": "[encoded data removed]",
      "text/plain": [
       "<Figure size 432x288 with 1 Axes>"
      ]
     },
     "metadata": {
      "needs_background": "light"
     },
     "output_type": "display_data"
    },
    {
     "name": "stderr",
     "output_type": "stream",
     "text": [
      "Clipping input data to the valid range for imshow with RGB data ([0..1] for floats or [0..255] for integers).\n"
     ]
    },
    {
     "name": "stdout",
     "output_type": "stream",
     "text": [
      "[[[[ 1.         1.         1.       ]\n",
      "   [ 1.         1.         1.       ]\n",
      "   [ 1.         1.         1.       ]\n",
      "   ...\n",
      "   [-0.4162116 -0.4162116 -0.4162116]\n",
      "   [-0.4162116 -0.4162116 -0.4162116]\n",
      "   [-0.4162116 -0.4162116 -0.4162116]]\n",
      "\n",
      "  [[ 1.         1.         1.       ]\n",
      "   [ 1.         1.         1.       ]\n",
      "   [ 1.         1.         1.       ]\n",
      "   ...\n",
      "   [-0.4162116 -0.4162116 -0.4162116]\n",
      "   [-0.4162116 -0.4162116 -0.4162116]\n",
      "   [-0.4162116 -0.4162116 -0.4162116]]\n",
      "\n",
      "  [[ 1.         1.         1.       ]\n",
      "   [ 1.         1.         1.       ]\n",
      "   [ 1.         1.         1.       ]\n",
      "   ...\n",
      "   [-0.4162116 -0.4162116 -0.4162116]\n",
      "   [-0.4162116 -0.4162116 -0.4162116]\n",
      "   [-0.4162116 -0.4162116 -0.4162116]]\n",
      "\n",
      "  ...\n",
      "\n",
      "  [[-0.4162116 -0.4162116 -0.4162116]\n",
      "   [-0.4162116 -0.4162116 -0.4162116]\n",
      "   [-0.4162116 -0.4162116 -0.4162116]\n",
      "   ...\n",
      "   [-0.4162116 -0.4162116 -0.4162116]\n",
      "   [-0.4162116 -0.4162116 -0.4162116]\n",
      "   [-0.4162116 -0.4162116 -0.4162116]]\n",
      "\n",
      "  [[-0.4162116 -0.4162116 -0.4162116]\n",
      "   [-0.4162116 -0.4162116 -0.4162116]\n",
      "   [-0.4162116 -0.4162116 -0.4162116]\n",
      "   ...\n",
      "   [-0.4162116 -0.4162116 -0.4162116]\n",
      "   [-0.4162116 -0.4162116 -0.4162116]\n",
      "   [-0.4162116 -0.4162116 -0.4162116]]\n",
      "\n",
      "  [[-0.4162116 -0.4162116 -0.4162116]\n",
      "   [-0.4162116 -0.4162116 -0.4162116]\n",
      "   [-0.4162116 -0.4162116 -0.4162116]\n",
      "   ...\n",
      "   [-0.4162116 -0.4162116 -0.4162116]\n",
      "   [-0.4162116 -0.4162116 -0.4162116]\n",
      "   [-0.4162116 -0.4162116 -0.4162116]]]]\n"
     ]
    },
    {
     "data": {
      "image/png": "[encoded data removed]",
      "text/plain": [
       "<Figure size 432x288 with 1 Axes>"
      ]
     },
     "metadata": {
      "needs_background": "light"
     },
     "output_type": "display_data"
    },
    {
     "name": "stdout",
     "output_type": "stream",
     "text": [
      "[[[[-1.         -1.         -1.        ]\n",
      "   [-1.         -1.         -1.        ]\n",
      "   [-1.         -1.         -1.        ]\n",
      "   ...\n",
      "   [-1.         -1.         -1.        ]\n",
      "   [-1.         -1.         -1.        ]\n",
      "   [-1.         -1.         -1.        ]]\n",
      "\n",
      "  [[-1.         -1.         -1.        ]\n",
      "   [-1.         -1.         -1.        ]\n",
      "   [-1.         -1.         -1.        ]\n",
      "   ...\n",
      "   [-1.         -1.         -1.        ]\n",
      "   [-1.         -1.         -1.        ]\n",
      "   [-1.         -1.         -1.        ]]\n",
      "\n",
      "  [[-0.99610686 -0.99610686 -0.99610686]\n",
      "   [-1.         -1.         -1.        ]\n",
      "   [-1.         -1.         -1.        ]\n",
      "   ...\n",
      "   [-1.         -1.         -1.        ]\n",
      "   [-1.         -1.         -1.        ]\n",
      "   [-1.         -1.         -1.        ]]\n",
      "\n",
      "  ...\n",
      "\n",
      "  [[-1.         -1.         -1.        ]\n",
      "   [-1.         -1.         -1.        ]\n",
      "   [-1.         -1.         -1.        ]\n",
      "   ...\n",
      "   [-1.         -1.         -1.        ]\n",
      "   [-1.         -1.         -1.        ]\n",
      "   [-1.         -1.         -1.        ]]\n",
      "\n",
      "  [[-1.         -1.         -1.        ]\n",
      "   [-1.         -1.         -1.        ]\n",
      "   [-1.         -1.         -1.        ]\n",
      "   ...\n",
      "   [-1.         -1.         -1.        ]\n",
      "   [-1.         -1.         -1.        ]\n",
      "   [-1.         -1.         -1.        ]]\n",
      "\n",
      "  [[-1.         -1.         -1.        ]\n",
      "   [-1.         -1.         -1.        ]\n",
      "   [-1.         -1.         -1.        ]\n",
      "   ...\n",
      "   [-1.         -1.         -1.        ]\n",
      "   [-1.         -1.         -1.        ]\n",
      "   [-1.         -1.         -1.        ]]]]\n"
     ]
    },
    {
     "name": "stderr",
     "output_type": "stream",
     "text": [
      "Clipping input data to the valid range for imshow with RGB data ([0..1] for floats or [0..255] for integers).\n"
     ]
    },
    {
     "data": {
      "image/png": "[encoded data removed]",
      "text/plain": [
       "<Figure size 432x288 with 1 Axes>"
      ]
     },
     "metadata": {
      "needs_background": "light"
     },
     "output_type": "display_data"
    },
    {
     "name": "stdout",
     "output_type": "stream",
     "text": [
      "[[[[-0.57961977 -0.57961977 -0.57961977]\n",
      "   [-0.57961977 -0.57961977 -0.57961977]\n",
      "   [-0.57961977 -0.57961977 -0.57961977]\n",
      "   ...\n",
      "   [-0.57961977 -0.57961977 -0.57961977]\n",
      "   [-0.57961977 -0.57961977 -0.57961977]\n",
      "   [-0.57961977 -0.57961977 -0.57961977]]\n",
      "\n",
      "  [[-0.57961977 -0.57961977 -0.57961977]\n",
      "   [-0.57961977 -0.57961977 -0.57961977]\n",
      "   [-0.57961977 -0.57961977 -0.57961977]\n",
      "   ...\n",
      "   [-0.57961977 -0.57961977 -0.57961977]\n",
      "   [-0.57961977 -0.57961977 -0.57961977]\n",
      "   [-0.57961977 -0.57961977 -0.57961977]]\n",
      "\n",
      "  [[-0.57961977 -0.57961977 -0.57961977]\n",
      "   [-0.57961977 -0.57961977 -0.57961977]\n",
      "   [-0.57961977 -0.57961977 -0.57961977]\n",
      "   ...\n",
      "   [-0.57961977 -0.57961977 -0.57961977]\n",
      "   [-0.57961977 -0.57961977 -0.57961977]\n",
      "   [-0.57961977 -0.57961977 -0.57961977]]\n",
      "\n",
      "  ...\n",
      "\n",
      "  [[ 0.43778676  0.43778676  0.43778676]\n",
      "   [ 0.30433065  0.30433065  0.30433065]\n",
      "   [-0.1391981  -0.1391981  -0.1391981 ]\n",
      "   ...\n",
      "   [-0.57961977 -0.57961977 -0.57961977]\n",
      "   [-0.57961977 -0.57961977 -0.57961977]\n",
      "   [-0.57961977 -0.57961977 -0.57961977]]\n",
      "\n",
      "  [[-0.44881776 -0.44881776 -0.44881776]\n",
      "   [-0.44519547 -0.44519547 -0.44519547]\n",
      "   [-0.51343524 -0.51343524 -0.51343524]\n",
      "   ...\n",
      "   [-0.57961977 -0.57961977 -0.57961977]\n",
      "   [-0.57961977 -0.57961977 -0.57961977]\n",
      "   [-0.57961977 -0.57961977 -0.57961977]]\n",
      "\n",
      "  [[-0.57961977 -0.57961977 -0.57961977]\n",
      "   [-0.57961977 -0.57961977 -0.57961977]\n",
      "   [-0.57961977 -0.57961977 -0.57961977]\n",
      "   ...\n",
      "   [-0.57961977 -0.57961977 -0.57961977]\n",
      "   [-0.57961977 -0.57961977 -0.57961977]\n",
      "   [-0.57961977 -0.57961977 -0.57961977]]]]\n"
     ]
    }
   ],
   "source": [
    "model=tf.keras.models.load_model('devnagri-script-detection-1.model')\n",
    "for i in range(10):\n",
    "    a=X[i].reshape((-1, 32, 32, 3))\n",
    "    prediction=[model.predict_classes([a])]\n",
    "    plt.imshow(X[i])\n",
    "    plt.show()\n",
    "    print(a)"
   ]
  },
  {
   "cell_type": "code",
   "execution_count": 227,
   "metadata": {},
   "outputs": [],
   "source": [
    "b=np.vectorize(X[1])"
   ]
  },
  {
   "cell_type": "code",
   "execution_count": 228,
   "metadata": {},
   "outputs": [
    {
     "data": {
      "text/plain": [
       "<numpy.vectorize at 0x26580014250>"
      ]
     },
     "execution_count": 228,
     "metadata": {},
     "output_type": "execute_result"
    }
   ],
   "source": [
    "b"
   ]
  },
  {
   "cell_type": "code",
   "execution_count": 230,
   "metadata": {},
   "outputs": [
    {
     "ename": "TypeError",
     "evalue": "int() argument must be a string, a bytes-like object or a number, not 'vectorize'",
     "output_type": "error",
     "traceback": [
      "\u001b[1;31m---------------------------------------------------------------------------\u001b[0m",
      "\u001b[1;31mTypeError\u001b[0m                                 Traceback (most recent call last)",
      "\u001b[1;32m<ipython-input-230-2f6b3f43a551>\u001b[0m in \u001b[0;36m<module>\u001b[1;34m\u001b[0m\n\u001b[1;32m----> 1\u001b[1;33m \u001b[0mCATEGORIES\u001b[0m\u001b[1;33m(\u001b[0m\u001b[0mint\u001b[0m\u001b[1;33m(\u001b[0m\u001b[0mb\u001b[0m\u001b[1;33m)\u001b[0m\u001b[1;33m)\u001b[0m\u001b[1;33m\u001b[0m\u001b[1;33m\u001b[0m\u001b[0m\n\u001b[0m",
      "\u001b[1;31mTypeError\u001b[0m: int() argument must be a string, a bytes-like object or a number, not 'vectorize'"
     ]
    }
   ],
   "source": [
    "CATEGORIES(int(b))"
   ]
  }
 ],
 "metadata": {
  "kernelspec": {
   "display_name": "Python 3",
   "language": "python",
   "name": "python3"
  },
  "language_info": {
   "codemirror_mode": {
    "name": "ipython",
    "version": 3
   },
   "file_extension": ".py",
   "mimetype": "text/x-python",
   "name": "python",
   "nbconvert_exporter": "python",
   "pygments_lexer": "ipython3",
   "version": "3.8.5"
  }
 },
 "nbformat": 4,
 "nbformat_minor": 4
}
