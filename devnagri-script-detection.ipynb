{
 "cells": [
  {
   "cell_type": "code",
   "execution_count": 1,
   "metadata": {},
   "outputs": [],
   "source": [
    "#basic imports\n",
    "\n",
    "import numpy as np\n",
    "import matplotlib.pyplot as plt\n",
    "import os\n",
    "import cv2\n",
    "\n",
    "import tensorflow as tf\n",
    "from tensorflow.keras.models import Sequential\n",
    "import tensorflow.keras.layers as tfl\n",
    "from tensorflow.keras.callbacks import TensorBoard\n",
    "import time\n",
    "import pickle"
   ]
  },
  {
   "cell_type": "code",
   "execution_count": 2,
   "metadata": {},
   "outputs": [],
   "source": [
    "#model name\n",
    "NAME=\"devnagri-{}\".format(int(time.time()))"
   ]
  },
  {
   "cell_type": "code",
   "execution_count": 3,
   "metadata": {},
   "outputs": [],
   "source": [
    "# TensorBoard\n",
    "tensorboard=TensorBoard(log_dir='logs/{}'.format(NAME))\n",
    "\n",
    "# GPU\n",
    "gpu_options=tf.compat.v1.GPUOptions(per_process_gpu_memory_fraction=0.333)\n",
    "sess=tf.compat.v1.Session(config=tf.compat.v1.ConfigProto(gpu_options=gpu_options))"
   ]
  },
  {
   "cell_type": "code",
   "execution_count": 2,
   "metadata": {},
   "outputs": [],
   "source": [
    "# load the directory where image(or dataset) folders are\n",
    "\n",
    "DATADIR='C:\\IDK\\ML\\Devnagri\\DevanagariHandwrittenCharacterDataset\\Train'\n",
    "CATEGORIES=[\"0\",\"1\",\"2\",\"3\",\"4\",\"5\",\"6\",\"7\",\"8\",\"9\",\n",
    "           \"adna\",\"ba\",\"bha\",\"cha\",\"chha\",\"da\",\"dha\",\"daa\",\"dha\",\"dhaa\",\"ga\",\n",
    "           \"gha\",\"gya\",\"ha\",\"ja\",\"jha\",\"ka\",\"kha\",\"kna\",\"ksha\",\"la\",\"ma\",\"na\",\n",
    "           \"pa\",\"pha\",\"ra\",\"sa\",\"sh\",\"t\",\"ta\",\"tha\",\"tra\",\"waw\",\"yaw\",\"yna\"]\n"
   ]
  },
  {
   "cell_type": "code",
   "execution_count": 3,
   "metadata": {},
   "outputs": [
    {
     "data": {
      "image/png": "[encoded data removed]",
      "text/plain": [
       "<Figure size 432x288 with 1 Axes>"
      ]
     },
     "metadata": {
      "needs_background": "light"
     },
     "output_type": "display_data"
    },
    {
     "name": "stdout",
     "output_type": "stream",
     "text": [
      "0\n"
     ]
    }
   ],
   "source": [
    "# this is just to test if loading is working\n",
    "for category in CATEGORIES:\n",
    "    path=os.path.join(DATADIR,category)\n",
    "    for img in os.listdir(path):\n",
    "        img_array=cv2.imread(os.path.join(path,img),cv2.IMREAD_GRAYSCALE)\n",
    "        plt.imshow(img_array,cmap=\"gray\")\n",
    "        plt.show()\n",
    "        print(category)\n",
    "        break\n",
    "    break"
   ]
  },
  {
   "cell_type": "code",
   "execution_count": 4,
   "metadata": {},
   "outputs": [
    {
     "name": "stdout",
     "output_type": "stream",
     "text": [
      "[[0 0 0 ... 0 0 0]\n",
      " [0 0 0 ... 0 0 0]\n",
      " [0 0 0 ... 0 0 0]\n",
      " ...\n",
      " [0 0 0 ... 0 0 0]\n",
      " [0 0 0 ... 0 0 0]\n",
      " [0 0 0 ... 0 0 0]]\n",
      "(32, 32)\n"
     ]
    }
   ],
   "source": [
    "print(img_array)\n",
    "print(np.shape(img_array))"
   ]
  },
  {
   "cell_type": "code",
   "execution_count": 8,
   "metadata": {},
   "outputs": [
    {
     "name": "stdout",
     "output_type": "stream",
     "text": [
      "(32, 32)\n"
     ]
    },
    {
     "data": {
      "image/png": "[encoded data removed]",
      "text/plain": [
       "<Figure size 432x288 with 1 Axes>"
      ]
     },
     "metadata": {
      "needs_background": "light"
     },
     "output_type": "display_data"
    },
    {
     "name": "stdout",
     "output_type": "stream",
     "text": [
      "(1, 32, 32, 1)\n"
     ]
    }
   ],
   "source": [
    "# to make sure all images are of the same size and in grayscale(grayscale not necessary\n",
    "# but helpful in reducing the file sizes)\n",
    "\n",
    "IMG_SIZE=32\n",
    "new_array=cv2.resize(img_array,(IMG_SIZE,IMG_SIZE))\n",
    "print(np.shape(new_array))\n",
    "plt.imshow(new_array,cmap='gray')\n",
    "plt.show()\n",
    "image=np.array(new_array).reshape((-1, 32, 32, 1))\n",
    "print(np.shape(image))"
   ]
  },
  {
   "cell_type": "code",
   "execution_count": 30,
   "metadata": {},
   "outputs": [],
   "source": [
    "# creating the training data from the images dataset\n",
    "\n",
    "training_data=[]\n",
    "def create_training_data():\n",
    "    for category in CATEGORIES:\n",
    "        path=os.path.join(DATADIR,category)\n",
    "        class_num=CATEGORIES.index(category)\n",
    "        for img in os.listdir(path):\n",
    "            try:\n",
    "                img_array=cv2.imread(os.path.join(path,img),cv2.IMREAD_GRAYSCALE)\n",
    "                new_array=cv2.resize(img_array,(IMG_SIZE,IMG_SIZE))\n",
    "                #image = tf.image.decode_jpeg(new_array)\n",
    "                image = tf.cast(new_array, tf.float32)\n",
    "                training_data.append([image,class_num])\n",
    "            except Exception as e:\n",
    "                pass\n",
    "create_training_data()"
   ]
  },
  {
   "cell_type": "code",
   "execution_count": 31,
   "metadata": {},
   "outputs": [],
   "source": [
    "import random\n",
    "random.shuffle(training_data)"
   ]
  },
  {
   "cell_type": "code",
   "execution_count": 32,
   "metadata": {},
   "outputs": [],
   "source": [
    "# separate out features and labels\n",
    "\n",
    "X=[]\n",
    "y=[]\n",
    "\n",
    "for features, labels in training_data:\n",
    "    X.append(features)\n",
    "    y.append(labels)\n",
    "    \n",
    "X=np.array(X).reshape(-1,IMG_SIZE,IMG_SIZE,1)"
   ]
  },
  {
   "cell_type": "code",
   "execution_count": 33,
   "metadata": {},
   "outputs": [],
   "source": [
    "# to save X,y as proper training data\n",
    "\n",
    "import pickle\n",
    "\n",
    "pickle_out=open(\"X.pickle\",\"wb\")\n",
    "pickle.dump(X,pickle_out)\n",
    "pickle_out.close()\n",
    "\n",
    "pickle_out=open(\"y.pickle\",\"wb\")\n",
    "pickle.dump(y,pickle_out)\n",
    "pickle_out.close()"
   ]
  },
  {
   "cell_type": "code",
   "execution_count": 40,
   "metadata": {},
   "outputs": [],
   "source": [
    "X=pickle.load(open(\"X.pickle\",\"rb\"))\n",
    "y=pickle.load(open(\"y.pickle\",\"rb\"))"
   ]
  },
  {
   "cell_type": "code",
   "execution_count": 43,
   "metadata": {},
   "outputs": [],
   "source": [
    "X=np.array(X)\n",
    "y=np.array(y)"
   ]
  },
  {
   "cell_type": "code",
   "execution_count": 44,
   "metadata": {},
   "outputs": [
    {
     "name": "stdout",
     "output_type": "stream",
     "text": [
      "[[[[ 0.]\n",
      "   [ 0.]\n",
      "   [ 0.]\n",
      "   ...\n",
      "   [ 0.]\n",
      "   [ 0.]\n",
      "   [ 0.]]\n",
      "\n",
      "  [[ 0.]\n",
      "   [ 0.]\n",
      "   [ 0.]\n",
      "   ...\n",
      "   [ 0.]\n",
      "   [ 0.]\n",
      "   [ 0.]]\n",
      "\n",
      "  [[ 0.]\n",
      "   [ 0.]\n",
      "   [ 0.]\n",
      "   ...\n",
      "   [ 0.]\n",
      "   [ 0.]\n",
      "   [ 0.]]\n",
      "\n",
      "  ...\n",
      "\n",
      "  [[ 0.]\n",
      "   [ 0.]\n",
      "   [12.]\n",
      "   ...\n",
      "   [ 0.]\n",
      "   [ 0.]\n",
      "   [ 0.]]\n",
      "\n",
      "  [[ 0.]\n",
      "   [ 0.]\n",
      "   [ 0.]\n",
      "   ...\n",
      "   [ 0.]\n",
      "   [ 0.]\n",
      "   [ 0.]]\n",
      "\n",
      "  [[ 0.]\n",
      "   [ 0.]\n",
      "   [ 0.]\n",
      "   ...\n",
      "   [ 0.]\n",
      "   [ 0.]\n",
      "   [ 0.]]]\n",
      "\n",
      "\n",
      " [[[ 0.]\n",
      "   [ 0.]\n",
      "   [ 0.]\n",
      "   ...\n",
      "   [ 0.]\n",
      "   [ 0.]\n",
      "   [ 0.]]\n",
      "\n",
      "  [[ 0.]\n",
      "   [ 0.]\n",
      "   [ 0.]\n",
      "   ...\n",
      "   [ 0.]\n",
      "   [ 0.]\n",
      "   [ 0.]]\n",
      "\n",
      "  [[ 0.]\n",
      "   [ 0.]\n",
      "   [ 0.]\n",
      "   ...\n",
      "   [ 0.]\n",
      "   [ 0.]\n",
      "   [ 0.]]\n",
      "\n",
      "  ...\n",
      "\n",
      "  [[ 0.]\n",
      "   [ 0.]\n",
      "   [ 0.]\n",
      "   ...\n",
      "   [41.]\n",
      "   [ 0.]\n",
      "   [ 0.]]\n",
      "\n",
      "  [[ 0.]\n",
      "   [ 0.]\n",
      "   [ 0.]\n",
      "   ...\n",
      "   [ 0.]\n",
      "   [ 0.]\n",
      "   [ 0.]]\n",
      "\n",
      "  [[ 0.]\n",
      "   [ 0.]\n",
      "   [ 0.]\n",
      "   ...\n",
      "   [ 0.]\n",
      "   [ 0.]\n",
      "   [ 0.]]]\n",
      "\n",
      "\n",
      " [[[ 0.]\n",
      "   [ 0.]\n",
      "   [ 0.]\n",
      "   ...\n",
      "   [ 0.]\n",
      "   [ 0.]\n",
      "   [ 0.]]\n",
      "\n",
      "  [[ 0.]\n",
      "   [ 0.]\n",
      "   [ 0.]\n",
      "   ...\n",
      "   [ 0.]\n",
      "   [ 0.]\n",
      "   [ 0.]]\n",
      "\n",
      "  [[ 0.]\n",
      "   [ 0.]\n",
      "   [ 0.]\n",
      "   ...\n",
      "   [ 0.]\n",
      "   [ 0.]\n",
      "   [ 0.]]\n",
      "\n",
      "  ...\n",
      "\n",
      "  [[ 0.]\n",
      "   [ 0.]\n",
      "   [ 0.]\n",
      "   ...\n",
      "   [ 0.]\n",
      "   [ 0.]\n",
      "   [ 0.]]\n",
      "\n",
      "  [[ 0.]\n",
      "   [ 0.]\n",
      "   [ 0.]\n",
      "   ...\n",
      "   [ 0.]\n",
      "   [ 0.]\n",
      "   [ 0.]]\n",
      "\n",
      "  [[ 0.]\n",
      "   [ 0.]\n",
      "   [ 0.]\n",
      "   ...\n",
      "   [ 0.]\n",
      "   [ 0.]\n",
      "   [ 0.]]]\n",
      "\n",
      "\n",
      " ...\n",
      "\n",
      "\n",
      " [[[ 0.]\n",
      "   [ 0.]\n",
      "   [ 0.]\n",
      "   ...\n",
      "   [ 0.]\n",
      "   [ 0.]\n",
      "   [ 0.]]\n",
      "\n",
      "  [[ 0.]\n",
      "   [ 0.]\n",
      "   [ 0.]\n",
      "   ...\n",
      "   [ 0.]\n",
      "   [ 0.]\n",
      "   [ 0.]]\n",
      "\n",
      "  [[ 0.]\n",
      "   [ 0.]\n",
      "   [ 0.]\n",
      "   ...\n",
      "   [ 0.]\n",
      "   [ 0.]\n",
      "   [ 0.]]\n",
      "\n",
      "  ...\n",
      "\n",
      "  [[ 0.]\n",
      "   [ 0.]\n",
      "   [ 0.]\n",
      "   ...\n",
      "   [ 0.]\n",
      "   [ 0.]\n",
      "   [ 0.]]\n",
      "\n",
      "  [[ 0.]\n",
      "   [ 0.]\n",
      "   [ 0.]\n",
      "   ...\n",
      "   [ 0.]\n",
      "   [ 0.]\n",
      "   [ 0.]]\n",
      "\n",
      "  [[ 0.]\n",
      "   [ 0.]\n",
      "   [ 0.]\n",
      "   ...\n",
      "   [ 0.]\n",
      "   [ 0.]\n",
      "   [ 0.]]]\n",
      "\n",
      "\n",
      " [[[ 0.]\n",
      "   [ 0.]\n",
      "   [ 0.]\n",
      "   ...\n",
      "   [ 0.]\n",
      "   [ 0.]\n",
      "   [ 0.]]\n",
      "\n",
      "  [[ 0.]\n",
      "   [ 0.]\n",
      "   [ 0.]\n",
      "   ...\n",
      "   [ 0.]\n",
      "   [ 0.]\n",
      "   [ 0.]]\n",
      "\n",
      "  [[ 0.]\n",
      "   [ 0.]\n",
      "   [45.]\n",
      "   ...\n",
      "   [ 0.]\n",
      "   [ 0.]\n",
      "   [ 0.]]\n",
      "\n",
      "  ...\n",
      "\n",
      "  [[ 0.]\n",
      "   [ 0.]\n",
      "   [ 0.]\n",
      "   ...\n",
      "   [ 1.]\n",
      "   [ 0.]\n",
      "   [ 0.]]\n",
      "\n",
      "  [[ 0.]\n",
      "   [ 0.]\n",
      "   [ 0.]\n",
      "   ...\n",
      "   [ 0.]\n",
      "   [ 0.]\n",
      "   [ 0.]]\n",
      "\n",
      "  [[ 0.]\n",
      "   [ 0.]\n",
      "   [ 0.]\n",
      "   ...\n",
      "   [ 0.]\n",
      "   [ 0.]\n",
      "   [ 0.]]]\n",
      "\n",
      "\n",
      " [[[ 0.]\n",
      "   [ 0.]\n",
      "   [ 0.]\n",
      "   ...\n",
      "   [ 0.]\n",
      "   [ 0.]\n",
      "   [ 0.]]\n",
      "\n",
      "  [[ 0.]\n",
      "   [ 0.]\n",
      "   [ 0.]\n",
      "   ...\n",
      "   [ 0.]\n",
      "   [ 0.]\n",
      "   [ 0.]]\n",
      "\n",
      "  [[ 0.]\n",
      "   [ 0.]\n",
      "   [ 0.]\n",
      "   ...\n",
      "   [ 0.]\n",
      "   [ 0.]\n",
      "   [ 0.]]\n",
      "\n",
      "  ...\n",
      "\n",
      "  [[ 0.]\n",
      "   [ 0.]\n",
      "   [ 0.]\n",
      "   ...\n",
      "   [ 0.]\n",
      "   [ 0.]\n",
      "   [ 0.]]\n",
      "\n",
      "  [[ 0.]\n",
      "   [ 0.]\n",
      "   [ 0.]\n",
      "   ...\n",
      "   [ 0.]\n",
      "   [ 0.]\n",
      "   [ 0.]]\n",
      "\n",
      "  [[ 0.]\n",
      "   [ 0.]\n",
      "   [ 0.]\n",
      "   ...\n",
      "   [ 0.]\n",
      "   [ 0.]\n",
      "   [ 0.]]]]\n"
     ]
    }
   ],
   "source": [
    "print(X)"
   ]
  },
  {
   "cell_type": "code",
   "execution_count": 45,
   "metadata": {},
   "outputs": [
    {
     "name": "stdout",
     "output_type": "stream",
     "text": [
      "Epoch 1/5\n",
      "345/345 [==============================] - 12s 15ms/step - loss: 0.0000e+00 - accuracy: 0.0221 - auc: 0.5014 - val_loss: 0.0000e+00 - val_accuracy: 0.0235 - val_auc: 0.5000\n",
      "Epoch 2/5\n",
      "345/345 [==============================] - 4s 13ms/step - loss: 0.0000e+00 - accuracy: 0.0221 - auc: 0.5000 - val_loss: 0.0000e+00 - val_accuracy: 0.0235 - val_auc: 0.5000\n",
      "Epoch 3/5\n",
      "345/345 [==============================] - 4s 13ms/step - loss: 0.0000e+00 - accuracy: 0.0221 - auc: 0.5000 - val_loss: 0.0000e+00 - val_accuracy: 0.0235 - val_auc: 0.5000\n",
      "Epoch 4/5\n",
      "345/345 [==============================] - 4s 13ms/step - loss: 0.0000e+00 - accuracy: 0.0221 - auc: 0.5000 - val_loss: 0.0000e+00 - val_accuracy: 0.0235 - val_auc: 0.5000\n",
      "Epoch 5/5\n",
      "345/345 [==============================] - 4s 13ms/step - loss: 0.0000e+00 - accuracy: 0.0221 - auc: 0.5000 - val_loss: 0.0000e+00 - val_accuracy: 0.0235 - val_auc: 0.5000\n"
     ]
    },
    {
     "data": {
      "text/plain": [
       "<tensorflow.python.keras.callbacks.History at 0x19193d3edc0>"
      ]
     },
     "execution_count": 45,
     "metadata": {},
     "output_type": "execute_result"
    }
   ],
   "source": [
    "#building the model\n",
    "\n",
    "model=Sequential()\n",
    "# layer 1\n",
    "model.add(tfl.Conv2D(64,(3,3)))\n",
    "model.add(tfl.Activation('relu'))\n",
    "model.add(tfl.MaxPooling2D(pool_size=(2,2)))\n",
    "#layer 2\n",
    "model.add(tfl.Conv2D(64,(3,3)))\n",
    "model.add(tfl.Activation('relu'))\n",
    "model.add(tfl.MaxPooling2D(pool_size=(2,2)))\n",
    "# Dense\n",
    "model.add(tfl.Flatten())\n",
    "model.add(tfl.Dense(64))\n",
    "model.add(tfl.Activation('relu'))\n",
    "# o/p layer\n",
    "model.add(tfl.Dense(1))        # 1 for binary class\n",
    "model.add(tfl.Activation('sigmoid'))\n",
    "\n",
    "# compilation, loss, accuracy, optimizer\n",
    "model.compile(loss='CategoricalCrossentropy',\n",
    "             optimizer='adam',metrics=['accuracy','AUC'])\n",
    "\n",
    "# fitting\n",
    "model.fit(X,y,validation_split=0.1,batch_size=200,epochs=5,callbacks=[tensorboard])"
   ]
  },
  {
   "cell_type": "code",
   "execution_count": null,
   "metadata": {},
   "outputs": [],
   "source": []
  },
  {
   "cell_type": "code",
   "execution_count": null,
   "metadata": {},
   "outputs": [],
   "source": []
  },
  {
   "cell_type": "code",
   "execution_count": null,
   "metadata": {},
   "outputs": [],
   "source": []
  },
  {
   "cell_type": "code",
   "execution_count": null,
   "metadata": {},
   "outputs": [],
   "source": []
  },
  {
   "cell_type": "code",
   "execution_count": null,
   "metadata": {},
   "outputs": [],
   "source": []
  },
  {
   "cell_type": "code",
   "execution_count": null,
   "metadata": {},
   "outputs": [],
   "source": []
  },
  {
   "cell_type": "code",
   "execution_count": null,
   "metadata": {},
   "outputs": [],
   "source": []
  },
  {
   "cell_type": "code",
   "execution_count": null,
   "metadata": {},
   "outputs": [],
   "source": []
  }
 ],
 "metadata": {
  "kernelspec": {
   "display_name": "Python 3",
   "language": "python",
   "name": "python3"
  },
  "language_info": {
   "codemirror_mode": {
    "name": "ipython",
    "version": 3
   },
   "file_extension": ".py",
   "mimetype": "text/x-python",
   "name": "python",
   "nbconvert_exporter": "python",
   "pygments_lexer": "ipython3",
   "version": "3.8.5"
  }
 },
 "nbformat": 4,
 "nbformat_minor": 4
}
